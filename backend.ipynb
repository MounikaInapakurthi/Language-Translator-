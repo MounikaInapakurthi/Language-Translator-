{
  "cells": [
    {
      "cell_type": "code",
      "execution_count": 7,
      "metadata": {
        "colab": {
          "base_uri": "https://localhost:8080/"
        },
        "id": "ZP13X1nVmBbJ",
        "outputId": "e1fd3df1-f03d-42c2-d0ec-e0a213e6a709"
      },
      "outputs": [
        {
          "name": "stdout",
          "output_type": "stream",
          "text": [
            "Requirement already satisfied: deep-translator in c:\\users\\lavanya\\appdata\\local\\programs\\python\\python313\\lib\\site-packages (1.11.4)\n",
            "Requirement already satisfied: beautifulsoup4<5.0.0,>=4.9.1 in c:\\users\\lavanya\\appdata\\local\\programs\\python\\python313\\lib\\site-packages (from deep-translator) (4.13.3)\n",
            "Requirement already satisfied: requests<3.0.0,>=2.23.0 in c:\\users\\lavanya\\appdata\\local\\programs\\python\\python313\\lib\\site-packages (from deep-translator) (2.32.3)\n",
            "Requirement already satisfied: soupsieve>1.2 in c:\\users\\lavanya\\appdata\\local\\programs\\python\\python313\\lib\\site-packages (from beautifulsoup4<5.0.0,>=4.9.1->deep-translator) (2.6)\n",
            "Requirement already satisfied: typing-extensions>=4.0.0 in c:\\users\\lavanya\\appdata\\local\\programs\\python\\python313\\lib\\site-packages (from beautifulsoup4<5.0.0,>=4.9.1->deep-translator) (4.12.2)\n",
            "Requirement already satisfied: charset-normalizer<4,>=2 in c:\\users\\lavanya\\appdata\\local\\programs\\python\\python313\\lib\\site-packages (from requests<3.0.0,>=2.23.0->deep-translator) (3.4.1)\n",
            "Requirement already satisfied: idna<4,>=2.5 in c:\\users\\lavanya\\appdata\\local\\programs\\python\\python313\\lib\\site-packages (from requests<3.0.0,>=2.23.0->deep-translator) (3.10)\n",
            "Requirement already satisfied: urllib3<3,>=1.21.1 in c:\\users\\lavanya\\appdata\\local\\programs\\python\\python313\\lib\\site-packages (from requests<3.0.0,>=2.23.0->deep-translator) (2.3.0)\n",
            "Requirement already satisfied: certifi>=2017.4.17 in c:\\users\\lavanya\\appdata\\local\\programs\\python\\python313\\lib\\site-packages (from requests<3.0.0,>=2.23.0->deep-translator) (2025.1.31)\n",
            "Note: you may need to restart the kernel to use updated packages.\n"
          ]
        }
      ],
      "source": [
        "pip install deep-translator"
      ]
    },
    {
      "cell_type": "code",
      "execution_count": 1,
      "metadata": {},
      "outputs": [],
      "source": [
        "from deep_translator import GoogleTranslator\n",
        "from langdetect import detect"
      ]
    },
    {
      "cell_type": "code",
      "execution_count": 2,
      "metadata": {},
      "outputs": [],
      "source": [
        "def detect_language(text):\n",
        "    \"\"\"Detects the language using langdetect.\"\"\"\n",
        "    return detect(text)"
      ]
    },
    {
      "cell_type": "code",
      "execution_count": 3,
      "metadata": {
        "id": "nQUCrt7CmbhN"
      },
      "outputs": [],
      "source": [
        "def translate_text(text, target_lang):\n",
        "    \"\"\"Translates the text into the target language.\"\"\"\n",
        "    translator = GoogleTranslator(source='auto', target=target_lang)\n",
        "    return translator.translate(text)"
      ]
    },
    {
      "cell_type": "code",
      "execution_count": 4,
      "metadata": {
        "colab": {
          "base_uri": "https://localhost:8080/"
        },
        "id": "X_eP8od4nCq8",
        "outputId": "dcdd1f26-57ad-4e98-a391-04e98d710f04"
      },
      "outputs": [],
      "source": [
        "# Example usage\n",
        "text_to_translate = \"Merci pour tout.\"\n",
        "detected_lang = detect_language(text_to_translate)"
      ]
    },
    {
      "cell_type": "code",
      "execution_count": 5,
      "metadata": {
        "colab": {
          "base_uri": "https://localhost:8080/"
        },
        "id": "06FfBrqdnSsC",
        "outputId": "87fb1644-a012-424e-bc0d-b8bd87968e27"
      },
      "outputs": [],
      "source": [
        "# Translate to multiple languages\n",
        "translations = {\n",
        "    \"English\": translate_text(text_to_translate, \"en\"),\n",
        "    \"Arabic\": translate_text(text_to_translate, \"ar\"),\n",
        "    \"Tamil\": translate_text(text_to_translate, \"ta\"),\n",
        "    \"Telugu\": translate_text(text_to_translate, \"te\"),\n",
        "}"
      ]
    },
    {
      "cell_type": "code",
      "execution_count": 6,
      "metadata": {},
      "outputs": [
        {
          "name": "stdout",
          "output_type": "stream",
          "text": [
            "Detected Language: fr\n",
            "Translated to English: Thank you for everything.\n",
            "Translated to Arabic: شكرا لك على كل شيء.\n",
            "Translated to Tamil: எல்லாவற்றிற்கும் நன்றி.\n",
            "Translated to Telugu: ప్రతిదానికీ ధన్యవాదాలు.\n"
          ]
        }
      ],
      "source": [
        "print(f\"Detected Language: {detected_lang}\")\n",
        "for lang, translation in translations.items():\n",
        "    print(f\"Translated to {lang}: {translation}\")"
      ]
    }
  ],
  "metadata": {
    "colab": {
      "provenance": []
    },
    "kernelspec": {
      "display_name": "Python 3",
      "name": "python3"
    },
    "language_info": {
      "codemirror_mode": {
        "name": "ipython",
        "version": 3
      },
      "file_extension": ".py",
      "mimetype": "text/x-python",
      "name": "python",
      "nbconvert_exporter": "python",
      "pygments_lexer": "ipython3",
      "version": "3.13.1"
    }
  },
  "nbformat": 4,
  "nbformat_minor": 0
}
